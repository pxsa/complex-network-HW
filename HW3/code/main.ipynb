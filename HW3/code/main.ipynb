{
 "cells": [
  {
   "cell_type": "markdown",
   "id": "c7ced083",
   "metadata": {},
   "source": [
    "## Create Complex Network"
   ]
  },
  {
   "cell_type": "code",
   "execution_count": 2,
   "id": "4eddc82e",
   "metadata": {},
   "outputs": [],
   "source": [
    "import networkx as nx\n",
    "import matplotlib.pyplot as plt\n",
    "from community import community_louvain\n",
    "import numpy as np\n",
    "import pandas as pd"
   ]
  },
  {
   "cell_type": "code",
   "execution_count": 3,
   "id": "f0c6998a",
   "metadata": {},
   "outputs": [],
   "source": [
    "# Make Networks\n",
    "ba = nx.barabasi_albert_graph(n=500, m=2)\n",
    "ws = nx.watts_strogatz_graph(n=500, k=4, p=0.1)\n",
    "er = nx.erdos_renyi_graph(n=500, p=0.01)"
   ]
  },
  {
   "cell_type": "code",
   "execution_count": 3,
   "id": "a912a870",
   "metadata": {},
   "outputs": [],
   "source": [
    "def print_network_properties(G, name):\n",
    "    print(f\"\\n Network Feature {name}:\")\n",
    "    print(f\"\\n Nodes: {G.number_of_nodes()}\")\n",
    "    print(f\"\\n Edges: {G.number_of_edges()}\")\n",
    "    print(f\"\\n Average Clustering Coefficient: {nx.average_clustering(G):.4f}\")\n",
    "    print(f\"\\n Average Path Length: {nx.average_shortest_path_length(G):.4f}\")"
   ]
  },
  {
   "cell_type": "code",
   "execution_count": 4,
   "id": "bedd2d53",
   "metadata": {},
   "outputs": [
    {
     "name": "stdout",
     "output_type": "stream",
     "text": [
      "\n",
      " Network Feature Barabási-Albert:\n",
      "\n",
      " Nodes: 1000\n",
      "\n",
      " Edges: 1996\n",
      "\n",
      " Average Clustering Coefficient: 0.0250\n",
      "\n",
      " Average Path Length: 4.1170\n"
     ]
    }
   ],
   "source": [
    "print_network_properties(ba, \"Barabási-Albert\")"
   ]
  },
  {
   "cell_type": "code",
   "execution_count": 5,
   "id": "d84ff192",
   "metadata": {},
   "outputs": [
    {
     "name": "stdout",
     "output_type": "stream",
     "text": [
      "\n",
      " Network Feature Watts-Strogatz:\n",
      "\n",
      " Nodes: 1000\n",
      "\n",
      " Edges: 2000\n",
      "\n",
      " Average Clustering Coefficient: 0.3792\n",
      "\n",
      " Average Path Length: 8.8495\n"
     ]
    }
   ],
   "source": [
    "print_network_properties(ws, \"Watts-Strogatz\")"
   ]
  },
  {
   "cell_type": "code",
   "execution_count": 6,
   "id": "783c8eaf",
   "metadata": {},
   "outputs": [
    {
     "name": "stdout",
     "output_type": "stream",
     "text": [
      "\n",
      " Network Feature Erdős-Rényi:\n",
      "\n",
      " Nodes: 1000\n",
      "\n",
      " Edges: 49911\n",
      "\n",
      " Average Clustering Coefficient: 0.1001\n",
      "\n",
      " Average Path Length: 1.9001\n"
     ]
    }
   ],
   "source": [
    "print_network_properties(er, \"Erdős-Rényi\")"
   ]
  },
  {
   "cell_type": "code",
   "execution_count": 28,
   "id": "04f7ad9d",
   "metadata": {},
   "outputs": [],
   "source": [
    "def analyze_network(G, name):\n",
    "    print(f'Number of Nodes: {G.number_of_nodes()}')\n",
    "    print(f'Number of Edges: {G.number_of_edges()}')\n",
    "    print(f'Density: {nx.density(G):.4f}')\n",
    "    print(f'Average Clustering: {nx.average_clustering(G):.4f}')\n",
    "\n",
    "    if nx.is_connected(G):\n",
    "        print(f'Average Path Length: {nx.average_shortest_path_length(G):.4f}')\n",
    "        print(f'Network Diameter: {nx.diameter(G)}')\n",
    "        print(f'Network Radius: {nx.radius(G)}')\n",
    "    else:\n",
    "        print(\"Network is not Connected.\")\n",
    "    \n",
    "    # Centrality Measures\n",
    "    degree_centrality = nx.degree_centrality(G)\n",
    "    betweenness_centrality = nx.betweenness_centrality(G)\n",
    "    closeness_centrality = nx.closeness_centrality(G)\n",
    "    eigenvector_centrality = nx.eigenvector_centrality(G, max_iter=1000)\n",
    "\n",
    "    print(f\"Degree Centrality: {max(degree_centrality.values()):.4f}\")\n",
    "    print(f\"Betweenness Centrality: {max(betweenness_centrality.values()):.4f}\")\n",
    "    print(f\"Closeness Centrality: {max(closeness_centrality.values()):.4f}\")\n",
    "    print(f\"EigenVector Centrality: {max(eigenvector_centrality.values()):.4f}\")\n",
    "\n",
    "    # Connected Parts\n",
    "    components = list(nx.connected_components(G))\n",
    "    print(f'Number of Connected Parts: {len(components)}')\n",
    "    print(f'Length of Biggest Part: {len(max(components, key=len))}')\n",
    "\n",
    "    # Assortativity \n",
    "    print(f'Assortativity: {nx.degree_assortativity_coefficient(G):.4f}')\n",
    "\n",
    "    # Modularity (Louvain)\n",
    "    partition = community_louvain.best_partition(G)\n",
    "    modularity = community_louvain.modularity(partition, G)\n",
    "    print(f\"Modularity: {modularity:.4f}\")"
   ]
  },
  {
   "cell_type": "code",
   "execution_count": 8,
   "id": "ad80379d",
   "metadata": {},
   "outputs": [
    {
     "name": "stdout",
     "output_type": "stream",
     "text": [
      "Number of Nodes: 1000\n",
      "Number of Edges: 1996\n",
      "Density: 0.0040\n",
      "Average Clustering: 0.0250\n",
      "Average Path Length: 4.1170\n",
      "Network Diameter: 7\n",
      "Network Radius: 5\n",
      "Degree Centrality: 0.0571\n",
      "Betweenness Centrality: 0.1554\n",
      "Closeness Centrality: 0.3651\n",
      "EigenVector Centrality: 0.3430\n",
      "Number of Connected Parts: 1\n",
      "Length of Biggest Part: 1000\n",
      "Assortativity: -0.1239\n",
      "Modularity: 0.5233\n"
     ]
    }
   ],
   "source": [
    "analyze_network(ba, \"Barabási-Albert\")"
   ]
  },
  {
   "cell_type": "code",
   "execution_count": 9,
   "id": "e7351f91",
   "metadata": {},
   "outputs": [
    {
     "name": "stdout",
     "output_type": "stream",
     "text": [
      "Number of Nodes: 1000\n",
      "Number of Edges: 2000\n",
      "Density: 0.0040\n",
      "Average Clustering: 0.3792\n",
      "Average Path Length: 8.8495\n",
      "Network Diameter: 18\n",
      "Network Radius: 12\n",
      "Degree Centrality: 0.0070\n",
      "Betweenness Centrality: 0.0605\n",
      "Closeness Centrality: 0.1454\n",
      "EigenVector Centrality: 0.2777\n",
      "Number of Connected Parts: 1\n",
      "Length of Biggest Part: 1000\n",
      "Assortativity: -0.0116\n",
      "Modularity: 0.8489\n"
     ]
    }
   ],
   "source": [
    "analyze_network(ws, \"Watts-Strogatz\")"
   ]
  },
  {
   "cell_type": "code",
   "execution_count": 10,
   "id": "22672b54",
   "metadata": {},
   "outputs": [
    {
     "name": "stdout",
     "output_type": "stream",
     "text": [
      "Number of Nodes: 1000\n",
      "Number of Edges: 49911\n",
      "Density: 0.0999\n",
      "Average Clustering: 0.1001\n",
      "Average Path Length: 1.9001\n",
      "Network Diameter: 3\n",
      "Network Radius: 2\n",
      "Degree Centrality: 0.1261\n",
      "Betweenness Centrality: 0.0014\n",
      "Closeness Centrality: 0.5337\n",
      "EigenVector Centrality: 0.0399\n",
      "Number of Connected Parts: 1\n",
      "Length of Biggest Part: 1000\n",
      "Assortativity: 0.0017\n",
      "Modularity: 0.0812\n"
     ]
    }
   ],
   "source": [
    "analyze_network(er, \"Erdős-Rényi\")"
   ]
  },
  {
   "cell_type": "markdown",
   "id": "79f85c86",
   "metadata": {},
   "source": [
    "## Plots"
   ]
  },
  {
   "cell_type": "code",
   "execution_count": 11,
   "id": "06a4918a",
   "metadata": {},
   "outputs": [
    {
     "data": {
      "image/png": "[encoded data removed]",
      "text/plain": [
       "<Figure size 1000x600 with 1 Axes>"
      ]
     },
     "metadata": {},
     "output_type": "display_data"
    }
   ],
   "source": [
    "def plot_degree_distribution(G, name):\n",
    "    degrees = [d for n, d in G.degree()]\n",
    "    plt.hist(degrees, bins=20, density=True, alpha=0.5, label=name)\n",
    "    plt.xlabel(\"Degree\")\n",
    "    plt.ylabel(\"Density\")\n",
    "    plt.title(\"Degree Distribution\")\n",
    "    plt.legend()\n",
    "\n",
    "plt.figure(figsize=(10, 6))\n",
    "plot_degree_distribution(ba, \"Barabási-Albert\")\n",
    "plot_degree_distribution(ws, \"Watts-Strogatz\")\n",
    "plot_degree_distribution(er, \"Erdős-Rényi\")\n",
    "plt.show()"
   ]
  },
  {
   "cell_type": "markdown",
   "id": "3ab4ef35",
   "metadata": {},
   "source": [
    "## SIR (Susceptible-Infected-Recovered)"
   ]
  },
  {
   "cell_type": "code",
   "execution_count": 4,
   "id": "5023a1ec",
   "metadata": {},
   "outputs": [],
   "source": [
    "# Define some parameters\n",
    "N = 500\n",
    "beta = 0.3\n",
    "gamma = 0.1\n",
    "timesteps = 50\n",
    "initial_infected = 10"
   ]
  },
  {
   "cell_type": "code",
   "execution_count": 5,
   "id": "75b4d433",
   "metadata": {},
   "outputs": [],
   "source": [
    "networks = {'BA': ba, 'WS': ws, 'ER': er}"
   ]
  },
  {
   "cell_type": "code",
   "execution_count": 6,
   "id": "1225d24b",
   "metadata": {},
   "outputs": [],
   "source": [
    "# SIR Sumulation\n",
    "def sir_simulation(G, beta, gamma, initial_infected, timesteps):\n",
    "\n",
    "    # Initialization\n",
    "    status = {node: \"S\" for node in G.nodes()}\n",
    "    initial_nodes = np.random.choice(G.nodes(), initial_infected, replace=False)\n",
    "    for node in initial_nodes:\n",
    "        status[node] = \"I\"\n",
    "    \n",
    "    S_count, I_count, R_count = [N - initial_infected], [initial_infected], [0]\n",
    "    \n",
    "    # Simulation\n",
    "    for t in range(timesteps):\n",
    "        new_status = status.copy()\n",
    "        for node in G.nodes():\n",
    "            if status[node] == \"I\":\n",
    "                # انتقال بیماری به همسایگان مستعد\n",
    "                neighbors = list(G.neighbors(node))\n",
    "                for neighbor in neighbors:\n",
    "                    if status[neighbor] == \"S\" and np.random.random() < beta:\n",
    "                        new_status[neighbor] = \"I\"\n",
    "                # بهبود گره مبتلا\n",
    "                if np.random.random() < gamma:\n",
    "                    new_status[node] = \"R\"\n",
    "        status = new_status\n",
    "        \n",
    "        # شمارش تعداد گره‌ها در هر حالت\n",
    "        S = sum(1 for node in status if status[node] == \"S\")\n",
    "        I = sum(1 for node in status if status[node] == \"I\")\n",
    "        R = sum(1 for node in status if status[node] == \"R\")\n",
    "        S_count.append(S)\n",
    "        I_count.append(I)\n",
    "        R_count.append(R)\n",
    "        \n",
    "        # توقف اگر هیچ مبتلایی باقی نمانده باشد\n",
    "        if I == 0:\n",
    "            break\n",
    "    \n",
    "    return S_count, I_count, R_count"
   ]
  },
  {
   "cell_type": "code",
   "execution_count": 7,
   "id": "7303c6b4",
   "metadata": {},
   "outputs": [],
   "source": [
    "results = {}\n",
    "for name, G in networks.items():\n",
    "    S, I, R = sir_simulation(G, beta, gamma, initial_infected, timesteps)\n",
    "    results[name] = {\"S\": S, \"I\": I, \"R\": R}"
   ]
  },
  {
   "cell_type": "code",
   "execution_count": 34,
   "id": "dcc60183",
   "metadata": {},
   "outputs": [
    {
     "data": {
      "image/png": "[encoded data removed]",
      "text/plain": [
       "<Figure size 1000x600 with 1 Axes>"
      ]
     },
     "metadata": {},
     "output_type": "display_data"
    }
   ],
   "source": [
    "plt.figure(figsize=(10, 6))\n",
    "for name, data in results.items():\n",
    "    plt.plot(data[\"I\"], label=f\"{name} - Infected\")\n",
    "plt.xlabel(\"Time\")\n",
    "plt.ylabel(\"Number of Infected Nodes\")\n",
    "plt.title(\"SIR Model Simulation on Different Networks\")\n",
    "plt.legend()\n",
    "plt.show()"
   ]
  },
  {
   "cell_type": "markdown",
   "id": "978aae28",
   "metadata": {},
   "source": [
    "## Create Dataset"
   ]
  },
  {
   "cell_type": "code",
   "execution_count": 8,
   "id": "fd36e048",
   "metadata": {},
   "outputs": [],
   "source": [
    "def extract_node_features(G, network_name):\n",
    "    nodes_data = []\n",
    "    for node in G.nodes():\n",
    "        degree = G.degree(node)\n",
    "        betweenness = nx.betweenness_centrality(G)[node]\n",
    "        closeness = nx.closeness_centrality(G)[node]\n",
    "        eigenvector = nx.eigenvector_centrality(G, max_iter=1000)[node]\n",
    "        clustering = nx.clustering(G, node)\n",
    "        nodes_data.append({\n",
    "            'network': network_name,\n",
    "            'node_id': node,\n",
    "            'degree': degree,\n",
    "            'betweenness_centrality': betweenness,\n",
    "            'closeness_centrality': closeness,\n",
    "            'eigenvector_centrality': eigenvector,\n",
    "            'clustering_coefficient': clustering\n",
    "        })\n",
    "    return nodes_data"
   ]
  },
  {
   "cell_type": "code",
   "execution_count": 9,
   "id": "24c2bf8e",
   "metadata": {},
   "outputs": [],
   "source": [
    "def sir_simulation_with_nodes(G, beta, gamma, initial_infected, timesteps, network_name):\n",
    "    status = {node: \"S\" for node in G.nodes()}\n",
    "    initial_nodes = np.random.choice(G.nodes(), initial_infected, replace=False)\n",
    "    for node in initial_nodes:\n",
    "        status[node] = \"I\"\n",
    "    \n",
    "    sir_data = []\n",
    "    for t in range(timesteps):\n",
    "        new_status = status.copy()\n",
    "        for node in G.nodes():\n",
    "            if status[node] == \"I\":\n",
    "                for neighbor in G.neighbors(node):\n",
    "                    if status[neighbor] == \"S\" and np.random.random() < beta:\n",
    "                        new_status[neighbor] = \"I\"\n",
    "                if np.random.random() < gamma:\n",
    "                    new_status[node] = \"R\"\n",
    "        status = new_status\n",
    "        \n",
    "        # ذخیره وضعیت هر گره در هر گام زمانی\n",
    "        for node in G.nodes():\n",
    "            sir_data.append({\n",
    "                'network': network_name,\n",
    "                'node_id': node,\n",
    "                'timestep': t,\n",
    "                'status': status[node]\n",
    "            })\n",
    "        \n",
    "        # توقف اگر هیچ مبتلایی باقی نمانده باشد\n",
    "        if sum(1 for s in status.values() if s == \"I\") == 0:\n",
    "            break\n",
    "    \n",
    "    return sir_data"
   ]
  },
  {
   "cell_type": "code",
   "execution_count": 37,
   "id": "ebb824bf",
   "metadata": {},
   "outputs": [],
   "source": [
    "all_data = []\n",
    "\n",
    "# Barabási-Albert\n",
    "network_name = 'BarabasiAlbert'\n",
    "ba_nodes = extract_node_features(ba, network_name)\n",
    "all_data.extend(ba_nodes)\n",
    "ba_sir = sir_simulation_with_nodes(ba, beta, gamma, initial_infected, timesteps,  network_name)\n",
    "all_data.extend(ba_sir)"
   ]
  },
  {
   "cell_type": "code",
   "execution_count": 38,
   "id": "2c523a8a",
   "metadata": {},
   "outputs": [],
   "source": [
    "df = pd.DataFrame(all_data)"
   ]
  },
  {
   "cell_type": "code",
   "execution_count": 39,
   "id": "649fd050",
   "metadata": {},
   "outputs": [
    {
     "data": {
      "text/html": [
       "<div>\n",
       "<style scoped>\n",
       "    .dataframe tbody tr th:only-of-type {\n",
       "        vertical-align: middle;\n",
       "    }\n",
       "\n",
       "    .dataframe tbody tr th {\n",
       "        vertical-align: top;\n",
       "    }\n",
       "\n",
       "    .dataframe thead th {\n",
       "        text-align: right;\n",
       "    }\n",
       "</style>\n",
       "<table border=\"1\" class=\"dataframe\">\n",
       "  <thead>\n",
       "    <tr style=\"text-align: right;\">\n",
       "      <th></th>\n",
       "      <th>network</th>\n",
       "      <th>node_id</th>\n",
       "      <th>degree</th>\n",
       "      <th>betweenness_centrality</th>\n",
       "      <th>closeness_centrality</th>\n",
       "      <th>eigenvector_centrality</th>\n",
       "      <th>clustering_coefficient</th>\n",
       "      <th>timestep</th>\n",
       "      <th>status</th>\n",
       "    </tr>\n",
       "  </thead>\n",
       "  <tbody>\n",
       "    <tr>\n",
       "      <th>0</th>\n",
       "      <td>BarabasiAlbert</td>\n",
       "      <td>0</td>\n",
       "      <td>48.0</td>\n",
       "      <td>0.200735</td>\n",
       "      <td>0.414108</td>\n",
       "      <td>0.381368</td>\n",
       "      <td>0.011525</td>\n",
       "      <td>NaN</td>\n",
       "      <td>NaN</td>\n",
       "    </tr>\n",
       "    <tr>\n",
       "      <th>1</th>\n",
       "      <td>BarabasiAlbert</td>\n",
       "      <td>1</td>\n",
       "      <td>52.0</td>\n",
       "      <td>0.237115</td>\n",
       "      <td>0.416876</td>\n",
       "      <td>0.413878</td>\n",
       "      <td>0.012821</td>\n",
       "      <td>NaN</td>\n",
       "      <td>NaN</td>\n",
       "    </tr>\n",
       "    <tr>\n",
       "      <th>2</th>\n",
       "      <td>BarabasiAlbert</td>\n",
       "      <td>2</td>\n",
       "      <td>42.0</td>\n",
       "      <td>0.167805</td>\n",
       "      <td>0.389236</td>\n",
       "      <td>0.264351</td>\n",
       "      <td>0.009292</td>\n",
       "      <td>NaN</td>\n",
       "      <td>NaN</td>\n",
       "    </tr>\n",
       "    <tr>\n",
       "      <th>3</th>\n",
       "      <td>BarabasiAlbert</td>\n",
       "      <td>3</td>\n",
       "      <td>31.0</td>\n",
       "      <td>0.122073</td>\n",
       "      <td>0.382669</td>\n",
       "      <td>0.215155</td>\n",
       "      <td>0.017204</td>\n",
       "      <td>NaN</td>\n",
       "      <td>NaN</td>\n",
       "    </tr>\n",
       "    <tr>\n",
       "      <th>4</th>\n",
       "      <td>BarabasiAlbert</td>\n",
       "      <td>4</td>\n",
       "      <td>22.0</td>\n",
       "      <td>0.061375</td>\n",
       "      <td>0.348951</td>\n",
       "      <td>0.130077</td>\n",
       "      <td>0.017316</td>\n",
       "      <td>NaN</td>\n",
       "      <td>NaN</td>\n",
       "    </tr>\n",
       "  </tbody>\n",
       "</table>\n",
       "</div>"
      ],
      "text/plain": [
       "          network  node_id  degree  betweenness_centrality  \\\n",
       "0  BarabasiAlbert        0    48.0                0.200735   \n",
       "1  BarabasiAlbert        1    52.0                0.237115   \n",
       "2  BarabasiAlbert        2    42.0                0.167805   \n",
       "3  BarabasiAlbert        3    31.0                0.122073   \n",
       "4  BarabasiAlbert        4    22.0                0.061375   \n",
       "\n",
       "   closeness_centrality  eigenvector_centrality  clustering_coefficient  \\\n",
       "0              0.414108                0.381368                0.011525   \n",
       "1              0.416876                0.413878                0.012821   \n",
       "2              0.389236                0.264351                0.009292   \n",
       "3              0.382669                0.215155                0.017204   \n",
       "4              0.348951                0.130077                0.017316   \n",
       "\n",
       "   timestep status  \n",
       "0       NaN    NaN  \n",
       "1       NaN    NaN  \n",
       "2       NaN    NaN  \n",
       "3       NaN    NaN  \n",
       "4       NaN    NaN  "
      ]
     },
     "execution_count": 39,
     "metadata": {},
     "output_type": "execute_result"
    }
   ],
   "source": [
    "df.head()"
   ]
  },
  {
   "cell_type": "code",
   "execution_count": 41,
   "id": "598ee1b3",
   "metadata": {},
   "outputs": [
    {
     "data": {
      "text/html": [
       "<div>\n",
       "<style scoped>\n",
       "    .dataframe tbody tr th:only-of-type {\n",
       "        vertical-align: middle;\n",
       "    }\n",
       "\n",
       "    .dataframe tbody tr th {\n",
       "        vertical-align: top;\n",
       "    }\n",
       "\n",
       "    .dataframe thead th {\n",
       "        text-align: right;\n",
       "    }\n",
       "</style>\n",
       "<table border=\"1\" class=\"dataframe\">\n",
       "  <thead>\n",
       "    <tr style=\"text-align: right;\">\n",
       "      <th></th>\n",
       "      <th>network</th>\n",
       "      <th>node_id</th>\n",
       "      <th>degree</th>\n",
       "      <th>betweenness_centrality</th>\n",
       "      <th>closeness_centrality</th>\n",
       "      <th>eigenvector_centrality</th>\n",
       "      <th>clustering_coefficient</th>\n",
       "      <th>timestep</th>\n",
       "      <th>status</th>\n",
       "    </tr>\n",
       "  </thead>\n",
       "  <tbody>\n",
       "    <tr>\n",
       "      <th>25495</th>\n",
       "      <td>BarabasiAlbert</td>\n",
       "      <td>495</td>\n",
       "      <td>NaN</td>\n",
       "      <td>NaN</td>\n",
       "      <td>NaN</td>\n",
       "      <td>NaN</td>\n",
       "      <td>NaN</td>\n",
       "      <td>49.0</td>\n",
       "      <td>R</td>\n",
       "    </tr>\n",
       "    <tr>\n",
       "      <th>25496</th>\n",
       "      <td>BarabasiAlbert</td>\n",
       "      <td>496</td>\n",
       "      <td>NaN</td>\n",
       "      <td>NaN</td>\n",
       "      <td>NaN</td>\n",
       "      <td>NaN</td>\n",
       "      <td>NaN</td>\n",
       "      <td>49.0</td>\n",
       "      <td>R</td>\n",
       "    </tr>\n",
       "    <tr>\n",
       "      <th>25497</th>\n",
       "      <td>BarabasiAlbert</td>\n",
       "      <td>497</td>\n",
       "      <td>NaN</td>\n",
       "      <td>NaN</td>\n",
       "      <td>NaN</td>\n",
       "      <td>NaN</td>\n",
       "      <td>NaN</td>\n",
       "      <td>49.0</td>\n",
       "      <td>R</td>\n",
       "    </tr>\n",
       "    <tr>\n",
       "      <th>25498</th>\n",
       "      <td>BarabasiAlbert</td>\n",
       "      <td>498</td>\n",
       "      <td>NaN</td>\n",
       "      <td>NaN</td>\n",
       "      <td>NaN</td>\n",
       "      <td>NaN</td>\n",
       "      <td>NaN</td>\n",
       "      <td>49.0</td>\n",
       "      <td>R</td>\n",
       "    </tr>\n",
       "    <tr>\n",
       "      <th>25499</th>\n",
       "      <td>BarabasiAlbert</td>\n",
       "      <td>499</td>\n",
       "      <td>NaN</td>\n",
       "      <td>NaN</td>\n",
       "      <td>NaN</td>\n",
       "      <td>NaN</td>\n",
       "      <td>NaN</td>\n",
       "      <td>49.0</td>\n",
       "      <td>R</td>\n",
       "    </tr>\n",
       "  </tbody>\n",
       "</table>\n",
       "</div>"
      ],
      "text/plain": [
       "              network  node_id  degree  betweenness_centrality  \\\n",
       "25495  BarabasiAlbert      495     NaN                     NaN   \n",
       "25496  BarabasiAlbert      496     NaN                     NaN   \n",
       "25497  BarabasiAlbert      497     NaN                     NaN   \n",
       "25498  BarabasiAlbert      498     NaN                     NaN   \n",
       "25499  BarabasiAlbert      499     NaN                     NaN   \n",
       "\n",
       "       closeness_centrality  eigenvector_centrality  clustering_coefficient  \\\n",
       "25495                   NaN                     NaN                     NaN   \n",
       "25496                   NaN                     NaN                     NaN   \n",
       "25497                   NaN                     NaN                     NaN   \n",
       "25498                   NaN                     NaN                     NaN   \n",
       "25499                   NaN                     NaN                     NaN   \n",
       "\n",
       "       timestep status  \n",
       "25495      49.0      R  \n",
       "25496      49.0      R  \n",
       "25497      49.0      R  \n",
       "25498      49.0      R  \n",
       "25499      49.0      R  "
      ]
     },
     "execution_count": 41,
     "metadata": {},
     "output_type": "execute_result"
    }
   ],
   "source": [
    "df.tail()"
   ]
  },
  {
   "cell_type": "code",
   "execution_count": 40,
   "id": "9e8104b8",
   "metadata": {},
   "outputs": [
    {
     "name": "stdout",
     "output_type": "stream",
     "text": [
      "<class 'pandas.core.frame.DataFrame'>\n",
      "RangeIndex: 25500 entries, 0 to 25499\n",
      "Data columns (total 9 columns):\n",
      " #   Column                  Non-Null Count  Dtype  \n",
      "---  ------                  --------------  -----  \n",
      " 0   network                 25500 non-null  object \n",
      " 1   node_id                 25500 non-null  int64  \n",
      " 2   degree                  500 non-null    float64\n",
      " 3   betweenness_centrality  500 non-null    float64\n",
      " 4   closeness_centrality    500 non-null    float64\n",
      " 5   eigenvector_centrality  500 non-null    float64\n",
      " 6   clustering_coefficient  500 non-null    float64\n",
      " 7   timestep                25000 non-null  float64\n",
      " 8   status                  25000 non-null  object \n",
      "dtypes: float64(6), int64(1), object(2)\n",
      "memory usage: 1.8+ MB\n"
     ]
    }
   ],
   "source": [
    "df.info()"
   ]
  },
  {
   "cell_type": "code",
   "execution_count": 42,
   "id": "d3274050",
   "metadata": {},
   "outputs": [],
   "source": [
    "df.to_csv('integrated_network_dataset.csv', index=False)"
   ]
  },
  {
   "cell_type": "code",
   "execution_count": 10,
   "id": "c554b2e9",
   "metadata": {},
   "outputs": [],
   "source": [
    "# Watts-Strogatz\n",
    "ws_data = []\n",
    "\n",
    "network_name = 'WattsStrogatz'\n",
    "ws_nodes = extract_node_features(ws, network_name)\n",
    "ws_data.extend(ws_nodes)\n",
    "ws_sir = sir_simulation_with_nodes(ws, beta, gamma, initial_infected, timesteps, network_name)\n",
    "ws_data.extend(ws_sir)"
   ]
  },
  {
   "cell_type": "code",
   "execution_count": 13,
   "id": "b22b8053",
   "metadata": {},
   "outputs": [],
   "source": [
    "ws_df = pd.DataFrame(ws_data)\n",
    "ws_df.to_csv('ws_integrated_network_dataset.csv', index=False)"
   ]
  },
  {
   "cell_type": "code",
   "execution_count": 14,
   "id": "1160aca7",
   "metadata": {},
   "outputs": [],
   "source": [
    "# Erdős-Rényi\n",
    "er_data = []\n",
    "\n",
    "network_name = 'ErdosRenyi'\n",
    "er_nodes = extract_node_features(er, network_name)\n",
    "er_data.extend(er_nodes)\n",
    "er_sir = sir_simulation_with_nodes(er, beta, gamma, initial_infected, timesteps, network_name)\n",
    "er_data.extend(er_sir)"
   ]
  },
  {
   "cell_type": "code",
   "execution_count": 15,
   "id": "1cfacbe5",
   "metadata": {},
   "outputs": [],
   "source": [
    "er_df = pd.DataFrame(er_data)\n",
    "er_df.to_csv('er_integrated_network_dataset.csv', index=False)"
   ]
  },
  {
   "cell_type": "code",
   "execution_count": 47,
   "id": "a2f0de88",
   "metadata": {},
   "outputs": [],
   "source": [
    "df = pd.DataFrame(all_data)"
   ]
  },
  {
   "cell_type": "code",
   "execution_count": 48,
   "id": "d532ae7c",
   "metadata": {},
   "outputs": [
    {
     "name": "stdout",
     "output_type": "stream",
     "text": [
      "<class 'pandas.core.frame.DataFrame'>\n",
      "RangeIndex: 77000 entries, 0 to 76999\n",
      "Data columns (total 9 columns):\n",
      " #   Column                  Non-Null Count  Dtype  \n",
      "---  ------                  --------------  -----  \n",
      " 0   network                 77000 non-null  object \n",
      " 1   node_id                 77000 non-null  int64  \n",
      " 2   degree                  2000 non-null   float64\n",
      " 3   betweenness_centrality  2000 non-null   float64\n",
      " 4   closeness_centrality    2000 non-null   float64\n",
      " 5   eigenvector_centrality  2000 non-null   float64\n",
      " 6   clustering_coefficient  2000 non-null   float64\n",
      " 7   timestep                75000 non-null  float64\n",
      " 8   status                  75000 non-null  object \n",
      "dtypes: float64(6), int64(1), object(2)\n",
      "memory usage: 5.3+ MB\n"
     ]
    }
   ],
   "source": [
    "df.info()"
   ]
  },
  {
   "cell_type": "code",
   "execution_count": 50,
   "metadata": {},
   "outputs": [],
   "source": [
    "df.to_csv('integrated_network_dataset3.csv', index=False)"
   ]
  },
  {
   "cell_type": "code",
   "execution_count": null,
   "id": "c2cdf826",
   "metadata": {},
   "outputs": [],
   "source": []
  }
 ],
 "metadata": {
  "kernelspec": {
   "display_name": "venv",
   "language": "python",
   "name": "python3"
  },
  "language_info": {
   "codemirror_mode": {
    "name": "ipython",
    "version": 3
   },
   "file_extension": ".py",
   "mimetype": "text/x-python",
   "name": "python",
   "nbconvert_exporter": "python",
   "pygments_lexer": "ipython3",
   "version": "3.11.9"
  }
 },
 "nbformat": 4,
 "nbformat_minor": 5
}
