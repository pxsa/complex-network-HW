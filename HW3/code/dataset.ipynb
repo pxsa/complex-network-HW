{
 "cells": [
  {
   "cell_type": "markdown",
   "id": "d1865fb1",
   "metadata": {},
   "source": [
    "## Redecorate DataSet"
   ]
  },
  {
   "cell_type": "code",
   "execution_count": 48,
   "id": "27cf64e3",
   "metadata": {},
   "outputs": [],
   "source": [
    "import numpy as np\n",
    "import pandas as pd"
   ]
  },
  {
   "cell_type": "code",
   "execution_count": 50,
   "id": "4533bfa9",
   "metadata": {},
   "outputs": [],
   "source": [
    "df = pd.read_csv('integrated_network_dataset.csv')"
   ]
  },
  {
   "cell_type": "code",
   "execution_count": 51,
   "id": "2996c542",
   "metadata": {},
   "outputs": [
    {
     "name": "stdout",
     "output_type": "stream",
     "text": [
      "<class 'pandas.core.frame.DataFrame'>\n",
      "RangeIndex: 25500 entries, 0 to 25499\n",
      "Data columns (total 9 columns):\n",
      " #   Column                  Non-Null Count  Dtype  \n",
      "---  ------                  --------------  -----  \n",
      " 0   network                 25500 non-null  object \n",
      " 1   node_id                 25500 non-null  int64  \n",
      " 2   degree                  500 non-null    float64\n",
      " 3   betweenness_centrality  500 non-null    float64\n",
      " 4   closeness_centrality    500 non-null    float64\n",
      " 5   eigenvector_centrality  500 non-null    float64\n",
      " 6   clustering_coefficient  500 non-null    float64\n",
      " 7   timestep                25000 non-null  float64\n",
      " 8   status                  25000 non-null  object \n",
      "dtypes: float64(6), int64(1), object(2)\n",
      "memory usage: 1.8+ MB\n"
     ]
    }
   ],
   "source": [
    "df.info()"
   ]
  },
  {
   "cell_type": "code",
   "execution_count": 52,
   "id": "2e9ac8de",
   "metadata": {},
   "outputs": [
    {
     "name": "stdout",
     "output_type": "stream",
     "text": [
      "<class 'pandas.core.frame.DataFrame'>\n",
      "RangeIndex: 500 entries, 0 to 499\n",
      "Data columns (total 5 columns):\n",
      " #   Column                  Non-Null Count  Dtype  \n",
      "---  ------                  --------------  -----  \n",
      " 0   degree                  500 non-null    float64\n",
      " 1   betweenness_centrality  500 non-null    float64\n",
      " 2   closeness_centrality    500 non-null    float64\n",
      " 3   eigenvector_centrality  500 non-null    float64\n",
      " 4   clustering_coefficient  500 non-null    float64\n",
      "dtypes: float64(5)\n",
      "memory usage: 19.7 KB\n"
     ]
    }
   ],
   "source": [
    "block = df.loc[:499, ['degree', 'betweenness_centrality', 'closeness_centrality', 'eigenvector_centrality', 'clustering_coefficient']].reset_index(drop=True)\n",
    "block.info()"
   ]
  },
  {
   "cell_type": "code",
   "execution_count": 53,
   "id": "5b9003ce",
   "metadata": {},
   "outputs": [],
   "source": [
    "repeated_block = pd.concat([block] * 50, ignore_index=True)"
   ]
  },
  {
   "cell_type": "code",
   "execution_count": 55,
   "id": "84ac865f",
   "metadata": {},
   "outputs": [],
   "source": [
    "df = df.iloc[500:].reset_index(drop=True)"
   ]
  },
  {
   "cell_type": "code",
   "execution_count": 56,
   "id": "d7744d8c",
   "metadata": {},
   "outputs": [
    {
     "name": "stdout",
     "output_type": "stream",
     "text": [
      "<class 'pandas.core.frame.DataFrame'>\n",
      "RangeIndex: 25000 entries, 0 to 24999\n",
      "Data columns (total 9 columns):\n",
      " #   Column                  Non-Null Count  Dtype  \n",
      "---  ------                  --------------  -----  \n",
      " 0   network                 25000 non-null  object \n",
      " 1   node_id                 25000 non-null  int64  \n",
      " 2   degree                  0 non-null      float64\n",
      " 3   betweenness_centrality  0 non-null      float64\n",
      " 4   closeness_centrality    0 non-null      float64\n",
      " 5   eigenvector_centrality  0 non-null      float64\n",
      " 6   clustering_coefficient  0 non-null      float64\n",
      " 7   timestep                25000 non-null  float64\n",
      " 8   status                  25000 non-null  object \n",
      "dtypes: float64(6), int64(1), object(2)\n",
      "memory usage: 1.7+ MB\n"
     ]
    }
   ],
   "source": [
    "df.info()"
   ]
  },
  {
   "cell_type": "code",
   "execution_count": 57,
   "id": "200b4eee",
   "metadata": {},
   "outputs": [],
   "source": [
    "df.loc[0:24999, ['degree', 'betweenness_centrality', 'closeness_centrality', 'eigenvector_centrality', 'clustering_coefficient']] = repeated_block"
   ]
  },
  {
   "cell_type": "code",
   "execution_count": 58,
   "id": "caf5b29e",
   "metadata": {},
   "outputs": [
    {
     "name": "stdout",
     "output_type": "stream",
     "text": [
      "<class 'pandas.core.frame.DataFrame'>\n",
      "RangeIndex: 25000 entries, 0 to 24999\n",
      "Data columns (total 9 columns):\n",
      " #   Column                  Non-Null Count  Dtype  \n",
      "---  ------                  --------------  -----  \n",
      " 0   network                 25000 non-null  object \n",
      " 1   node_id                 25000 non-null  int64  \n",
      " 2   degree                  25000 non-null  float64\n",
      " 3   betweenness_centrality  25000 non-null  float64\n",
      " 4   closeness_centrality    25000 non-null  float64\n",
      " 5   eigenvector_centrality  25000 non-null  float64\n",
      " 6   clustering_coefficient  25000 non-null  float64\n",
      " 7   timestep                25000 non-null  float64\n",
      " 8   status                  25000 non-null  object \n",
      "dtypes: float64(6), int64(1), object(2)\n",
      "memory usage: 1.7+ MB\n"
     ]
    }
   ],
   "source": [
    "df.info()"
   ]
  },
  {
   "cell_type": "code",
   "execution_count": 62,
   "id": "da2224b5",
   "metadata": {},
   "outputs": [
    {
     "data": {
      "text/html": [
       "<div>\n",
       "<style scoped>\n",
       "    .dataframe tbody tr th:only-of-type {\n",
       "        vertical-align: middle;\n",
       "    }\n",
       "\n",
       "    .dataframe tbody tr th {\n",
       "        vertical-align: top;\n",
       "    }\n",
       "\n",
       "    .dataframe thead th {\n",
       "        text-align: right;\n",
       "    }\n",
       "</style>\n",
       "<table border=\"1\" class=\"dataframe\">\n",
       "  <thead>\n",
       "    <tr style=\"text-align: right;\">\n",
       "      <th></th>\n",
       "      <th>network</th>\n",
       "      <th>node_id</th>\n",
       "      <th>degree</th>\n",
       "      <th>betweenness_centrality</th>\n",
       "      <th>closeness_centrality</th>\n",
       "      <th>eigenvector_centrality</th>\n",
       "      <th>clustering_coefficient</th>\n",
       "      <th>timestep</th>\n",
       "      <th>status</th>\n",
       "    </tr>\n",
       "  </thead>\n",
       "  <tbody>\n",
       "    <tr>\n",
       "      <th>0</th>\n",
       "      <td>BarabasiAlbert</td>\n",
       "      <td>0</td>\n",
       "      <td>48.0</td>\n",
       "      <td>0.200735</td>\n",
       "      <td>0.414108</td>\n",
       "      <td>0.381368</td>\n",
       "      <td>0.011525</td>\n",
       "      <td>0.0</td>\n",
       "      <td>I</td>\n",
       "    </tr>\n",
       "    <tr>\n",
       "      <th>1</th>\n",
       "      <td>BarabasiAlbert</td>\n",
       "      <td>1</td>\n",
       "      <td>52.0</td>\n",
       "      <td>0.237115</td>\n",
       "      <td>0.416876</td>\n",
       "      <td>0.413878</td>\n",
       "      <td>0.012821</td>\n",
       "      <td>0.0</td>\n",
       "      <td>I</td>\n",
       "    </tr>\n",
       "    <tr>\n",
       "      <th>2</th>\n",
       "      <td>BarabasiAlbert</td>\n",
       "      <td>2</td>\n",
       "      <td>42.0</td>\n",
       "      <td>0.167805</td>\n",
       "      <td>0.389236</td>\n",
       "      <td>0.264351</td>\n",
       "      <td>0.009292</td>\n",
       "      <td>0.0</td>\n",
       "      <td>S</td>\n",
       "    </tr>\n",
       "    <tr>\n",
       "      <th>3</th>\n",
       "      <td>BarabasiAlbert</td>\n",
       "      <td>3</td>\n",
       "      <td>31.0</td>\n",
       "      <td>0.122073</td>\n",
       "      <td>0.382669</td>\n",
       "      <td>0.215155</td>\n",
       "      <td>0.017204</td>\n",
       "      <td>0.0</td>\n",
       "      <td>S</td>\n",
       "    </tr>\n",
       "    <tr>\n",
       "      <th>4</th>\n",
       "      <td>BarabasiAlbert</td>\n",
       "      <td>4</td>\n",
       "      <td>22.0</td>\n",
       "      <td>0.061375</td>\n",
       "      <td>0.348951</td>\n",
       "      <td>0.130077</td>\n",
       "      <td>0.017316</td>\n",
       "      <td>0.0</td>\n",
       "      <td>S</td>\n",
       "    </tr>\n",
       "  </tbody>\n",
       "</table>\n",
       "</div>"
      ],
      "text/plain": [
       "          network  node_id  degree  betweenness_centrality  \\\n",
       "0  BarabasiAlbert        0    48.0                0.200735   \n",
       "1  BarabasiAlbert        1    52.0                0.237115   \n",
       "2  BarabasiAlbert        2    42.0                0.167805   \n",
       "3  BarabasiAlbert        3    31.0                0.122073   \n",
       "4  BarabasiAlbert        4    22.0                0.061375   \n",
       "\n",
       "   closeness_centrality  eigenvector_centrality  clustering_coefficient  \\\n",
       "0              0.414108                0.381368                0.011525   \n",
       "1              0.416876                0.413878                0.012821   \n",
       "2              0.389236                0.264351                0.009292   \n",
       "3              0.382669                0.215155                0.017204   \n",
       "4              0.348951                0.130077                0.017316   \n",
       "\n",
       "   timestep status  \n",
       "0       0.0      I  \n",
       "1       0.0      I  \n",
       "2       0.0      S  \n",
       "3       0.0      S  \n",
       "4       0.0      S  "
      ]
     },
     "execution_count": 62,
     "metadata": {},
     "output_type": "execute_result"
    }
   ],
   "source": [
    "df.head()"
   ]
  },
  {
   "cell_type": "markdown",
   "id": "cdf8c31a",
   "metadata": {},
   "source": [
    "### 2"
   ]
  },
  {
   "cell_type": "code",
   "execution_count": 71,
   "id": "ef6489c4",
   "metadata": {},
   "outputs": [
    {
     "name": "stdout",
     "output_type": "stream",
     "text": [
      "<class 'pandas.core.frame.DataFrame'>\n",
      "RangeIndex: 25500 entries, 0 to 25499\n",
      "Data columns (total 9 columns):\n",
      " #   Column                  Non-Null Count  Dtype  \n",
      "---  ------                  --------------  -----  \n",
      " 0   network                 25500 non-null  object \n",
      " 1   node_id                 25500 non-null  int64  \n",
      " 2   degree                  500 non-null    float64\n",
      " 3   betweenness_centrality  500 non-null    float64\n",
      " 4   closeness_centrality    500 non-null    float64\n",
      " 5   eigenvector_centrality  500 non-null    float64\n",
      " 6   clustering_coefficient  500 non-null    float64\n",
      " 7   timestep                25000 non-null  float64\n",
      " 8   status                  25000 non-null  object \n",
      "dtypes: float64(6), int64(1), object(2)\n",
      "memory usage: 1.8+ MB\n"
     ]
    }
   ],
   "source": [
    "ws_df = pd.read_csv('ws_integrated_network_dataset.csv')\n",
    "ws_df.info()"
   ]
  },
  {
   "cell_type": "code",
   "execution_count": 68,
   "id": "31b8508c",
   "metadata": {},
   "outputs": [],
   "source": [
    "def arrange_df(df):\n",
    "    block = df.loc[:499, ['degree', 'betweenness_centrality', 'closeness_centrality', 'eigenvector_centrality', 'clustering_coefficient']].reset_index(drop=True)\n",
    "    repeated_block = pd.concat([block] * 50, ignore_index=True)\n",
    "    df = df.iloc[500:].reset_index(drop=True)\n",
    "    df.loc[0:24999, ['degree', 'betweenness_centrality', 'closeness_centrality', 'eigenvector_centrality', 'clustering_coefficient']] = repeated_block\n",
    "    return df"
   ]
  },
  {
   "cell_type": "code",
   "execution_count": null,
   "id": "aecc13ff",
   "metadata": {},
   "outputs": [
    {
     "name": "stdout",
     "output_type": "stream",
     "text": [
      "<class 'pandas.core.frame.DataFrame'>\n",
      "RangeIndex: 500 entries, 0 to 499\n",
      "Data columns (total 5 columns):\n",
      " #   Column                  Non-Null Count  Dtype  \n",
      "---  ------                  --------------  -----  \n",
      " 0   degree                  500 non-null    float64\n",
      " 1   betweenness_centrality  500 non-null    float64\n",
      " 2   closeness_centrality    500 non-null    float64\n",
      " 3   eigenvector_centrality  500 non-null    float64\n",
      " 4   clustering_coefficient  500 non-null    float64\n",
      "dtypes: float64(5)\n",
      "memory usage: 19.7 KB\n"
     ]
    }
   ],
   "source": [
    "block = ws_df.loc[:499, ['degree', 'betweenness_centrality', 'closeness_centrality', 'eigenvector_centrality', 'clustering_coefficient']].reset_index(drop=True)\n",
    "block.info()\n",
    "repeated_block = pd.concat([block] * 50, ignore_index=True)"
   ]
  },
  {
   "cell_type": "code",
   "execution_count": 75,
   "id": "fe0f10d6",
   "metadata": {},
   "outputs": [
    {
     "name": "stdout",
     "output_type": "stream",
     "text": [
      "<class 'pandas.core.frame.DataFrame'>\n",
      "RangeIndex: 25000 entries, 0 to 24999\n",
      "Data columns (total 9 columns):\n",
      " #   Column                  Non-Null Count  Dtype  \n",
      "---  ------                  --------------  -----  \n",
      " 0   network                 25000 non-null  object \n",
      " 1   node_id                 25000 non-null  int64  \n",
      " 2   degree                  0 non-null      float64\n",
      " 3   betweenness_centrality  0 non-null      float64\n",
      " 4   closeness_centrality    0 non-null      float64\n",
      " 5   eigenvector_centrality  0 non-null      float64\n",
      " 6   clustering_coefficient  0 non-null      float64\n",
      " 7   timestep                25000 non-null  float64\n",
      " 8   status                  25000 non-null  object \n",
      "dtypes: float64(6), int64(1), object(2)\n",
      "memory usage: 1.7+ MB\n"
     ]
    }
   ],
   "source": [
    "ws_df = ws_df.iloc[500:].reset_index(drop=True)\n",
    "ws_df.info()"
   ]
  },
  {
   "cell_type": "code",
   "execution_count": 76,
   "id": "f891f62b",
   "metadata": {},
   "outputs": [],
   "source": [
    "ws_df.loc[0:24999, ['degree', 'betweenness_centrality', 'closeness_centrality', 'eigenvector_centrality', 'clustering_coefficient']] = repeated_block\n"
   ]
  },
  {
   "cell_type": "code",
   "execution_count": 77,
   "id": "753b5566",
   "metadata": {},
   "outputs": [
    {
     "name": "stdout",
     "output_type": "stream",
     "text": [
      "<class 'pandas.core.frame.DataFrame'>\n",
      "RangeIndex: 25000 entries, 0 to 24999\n",
      "Data columns (total 9 columns):\n",
      " #   Column                  Non-Null Count  Dtype  \n",
      "---  ------                  --------------  -----  \n",
      " 0   network                 25000 non-null  object \n",
      " 1   node_id                 25000 non-null  int64  \n",
      " 2   degree                  25000 non-null  float64\n",
      " 3   betweenness_centrality  25000 non-null  float64\n",
      " 4   closeness_centrality    25000 non-null  float64\n",
      " 5   eigenvector_centrality  25000 non-null  float64\n",
      " 6   clustering_coefficient  25000 non-null  float64\n",
      " 7   timestep                25000 non-null  float64\n",
      " 8   status                  25000 non-null  object \n",
      "dtypes: float64(6), int64(1), object(2)\n",
      "memory usage: 1.7+ MB\n"
     ]
    }
   ],
   "source": [
    "ws_df.info()"
   ]
  },
  {
   "cell_type": "markdown",
   "id": "b4594982",
   "metadata": {},
   "source": [
    "## 3"
   ]
  },
  {
   "cell_type": "code",
   "execution_count": 78,
   "id": "e1b8fea2",
   "metadata": {},
   "outputs": [
    {
     "name": "stdout",
     "output_type": "stream",
     "text": [
      "<class 'pandas.core.frame.DataFrame'>\n",
      "RangeIndex: 25500 entries, 0 to 25499\n",
      "Data columns (total 9 columns):\n",
      " #   Column                  Non-Null Count  Dtype  \n",
      "---  ------                  --------------  -----  \n",
      " 0   network                 25500 non-null  object \n",
      " 1   node_id                 25500 non-null  int64  \n",
      " 2   degree                  500 non-null    float64\n",
      " 3   betweenness_centrality  500 non-null    float64\n",
      " 4   closeness_centrality    500 non-null    float64\n",
      " 5   eigenvector_centrality  500 non-null    float64\n",
      " 6   clustering_coefficient  500 non-null    float64\n",
      " 7   timestep                25000 non-null  float64\n",
      " 8   status                  25000 non-null  object \n",
      "dtypes: float64(6), int64(1), object(2)\n",
      "memory usage: 1.8+ MB\n"
     ]
    }
   ],
   "source": [
    "er_df = pd.read_csv('er_integrated_network_dataset.csv')\n",
    "er_df.info()"
   ]
  },
  {
   "cell_type": "code",
   "execution_count": 79,
   "id": "da874288",
   "metadata": {},
   "outputs": [
    {
     "name": "stdout",
     "output_type": "stream",
     "text": [
      "<class 'pandas.core.frame.DataFrame'>\n",
      "RangeIndex: 500 entries, 0 to 499\n",
      "Data columns (total 5 columns):\n",
      " #   Column                  Non-Null Count  Dtype  \n",
      "---  ------                  --------------  -----  \n",
      " 0   degree                  500 non-null    float64\n",
      " 1   betweenness_centrality  500 non-null    float64\n",
      " 2   closeness_centrality    500 non-null    float64\n",
      " 3   eigenvector_centrality  500 non-null    float64\n",
      " 4   clustering_coefficient  500 non-null    float64\n",
      "dtypes: float64(5)\n",
      "memory usage: 19.7 KB\n"
     ]
    }
   ],
   "source": [
    "block = er_df.loc[:499, ['degree', 'betweenness_centrality', 'closeness_centrality', 'eigenvector_centrality', 'clustering_coefficient']].reset_index(drop=True)\n",
    "block.info()\n",
    "repeated_block = pd.concat([block] * 50, ignore_index=True)"
   ]
  },
  {
   "cell_type": "code",
   "execution_count": 80,
   "id": "4817ae61",
   "metadata": {},
   "outputs": [
    {
     "name": "stdout",
     "output_type": "stream",
     "text": [
      "<class 'pandas.core.frame.DataFrame'>\n",
      "RangeIndex: 25000 entries, 0 to 24999\n",
      "Data columns (total 9 columns):\n",
      " #   Column                  Non-Null Count  Dtype  \n",
      "---  ------                  --------------  -----  \n",
      " 0   network                 25000 non-null  object \n",
      " 1   node_id                 25000 non-null  int64  \n",
      " 2   degree                  0 non-null      float64\n",
      " 3   betweenness_centrality  0 non-null      float64\n",
      " 4   closeness_centrality    0 non-null      float64\n",
      " 5   eigenvector_centrality  0 non-null      float64\n",
      " 6   clustering_coefficient  0 non-null      float64\n",
      " 7   timestep                25000 non-null  float64\n",
      " 8   status                  25000 non-null  object \n",
      "dtypes: float64(6), int64(1), object(2)\n",
      "memory usage: 1.7+ MB\n"
     ]
    }
   ],
   "source": [
    "er_df = er_df.iloc[500:].reset_index(drop=True)\n",
    "er_df.info()"
   ]
  },
  {
   "cell_type": "code",
   "execution_count": 81,
   "id": "ba772143",
   "metadata": {},
   "outputs": [
    {
     "name": "stdout",
     "output_type": "stream",
     "text": [
      "<class 'pandas.core.frame.DataFrame'>\n",
      "RangeIndex: 25000 entries, 0 to 24999\n",
      "Data columns (total 9 columns):\n",
      " #   Column                  Non-Null Count  Dtype  \n",
      "---  ------                  --------------  -----  \n",
      " 0   network                 25000 non-null  object \n",
      " 1   node_id                 25000 non-null  int64  \n",
      " 2   degree                  25000 non-null  float64\n",
      " 3   betweenness_centrality  25000 non-null  float64\n",
      " 4   closeness_centrality    25000 non-null  float64\n",
      " 5   eigenvector_centrality  25000 non-null  float64\n",
      " 6   clustering_coefficient  25000 non-null  float64\n",
      " 7   timestep                25000 non-null  float64\n",
      " 8   status                  25000 non-null  object \n",
      "dtypes: float64(6), int64(1), object(2)\n",
      "memory usage: 1.7+ MB\n"
     ]
    }
   ],
   "source": [
    "er_df.loc[0:24999, ['degree', 'betweenness_centrality', 'closeness_centrality', 'eigenvector_centrality', 'clustering_coefficient']] = repeated_block\n",
    "er_df.info()"
   ]
  },
  {
   "cell_type": "code",
   "execution_count": 82,
   "id": "c6b16d75",
   "metadata": {},
   "outputs": [],
   "source": [
    "merged_df = pd.concat([df, ws_df, er_df], ignore_index=True)\n",
    "merged_df.to_csv('final_integrated_network_dataset.csv', index=False)"
   ]
  },
  {
   "cell_type": "code",
   "execution_count": 83,
   "id": "398531e8",
   "metadata": {},
   "outputs": [
    {
     "name": "stdout",
     "output_type": "stream",
     "text": [
      "<class 'pandas.core.frame.DataFrame'>\n",
      "RangeIndex: 75000 entries, 0 to 74999\n",
      "Data columns (total 9 columns):\n",
      " #   Column                  Non-Null Count  Dtype  \n",
      "---  ------                  --------------  -----  \n",
      " 0   network                 75000 non-null  object \n",
      " 1   node_id                 75000 non-null  int64  \n",
      " 2   degree                  75000 non-null  float64\n",
      " 3   betweenness_centrality  75000 non-null  float64\n",
      " 4   closeness_centrality    75000 non-null  float64\n",
      " 5   eigenvector_centrality  75000 non-null  float64\n",
      " 6   clustering_coefficient  75000 non-null  float64\n",
      " 7   timestep                75000 non-null  float64\n",
      " 8   status                  75000 non-null  object \n",
      "dtypes: float64(6), int64(1), object(2)\n",
      "memory usage: 5.1+ MB\n"
     ]
    }
   ],
   "source": [
    "merged_df.info()"
   ]
  },
  {
   "cell_type": "code",
   "execution_count": null,
   "id": "9ce73d67",
   "metadata": {},
   "outputs": [],
   "source": []
  }
 ],
 "metadata": {
  "kernelspec": {
   "display_name": "venv",
   "language": "python",
   "name": "python3"
  },
  "language_info": {
   "codemirror_mode": {
    "name": "ipython",
    "version": 3
   },
   "file_extension": ".py",
   "mimetype": "text/x-python",
   "name": "python",
   "nbconvert_exporter": "python",
   "pygments_lexer": "ipython3",
   "version": "3.11.9"
  }
 },
 "nbformat": 4,
 "nbformat_minor": 5
}
